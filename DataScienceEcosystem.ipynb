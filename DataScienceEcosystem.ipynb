{
  "metadata": {
    "kernelspec": {
      "name": "xpython",
      "display_name": "Python 3.13 (XPython)",
      "language": "python"
    },
    "language_info": {
      "file_extension": ".py",
      "mimetype": "text/x-python",
      "name": "python",
      "version": "3.13.1"
    }
  },
  "nbformat_minor": 5,
  "nbformat": 4,
  "cells": [
    {
      "id": "d8f13a69-2210-410b-ba4d-5fa81d025518",
      "cell_type": "markdown",
      "source": "# Data Science Tools and Ecosystem",
      "metadata": {}
    },
    {
      "id": "7fc65456-81c3-4211-9e4e-36c05d04e263",
      "cell_type": "markdown",
      "source": "In this notebook, Data Science Tools and Ecosystem are summarized.",
      "metadata": {}
    },
    {
      "id": "d6bd57b6-9a93-4801-a663-627502bf8b7f",
      "cell_type": "markdown",
      "source": "Some of the popular languages that Data Scientists use are:\n1. Python\n2. Java\n3. R",
      "metadata": {}
    },
    {
      "id": "52a956b9-4570-4843-be7c-191daf03a80c",
      "cell_type": "markdown",
      "source": "Some of the commonly used libraries used by Data Scientists include:\n1. Pandas\n2. NumPy\n3. TensorFlow",
      "metadata": {}
    },
    {
      "id": "a87c7070-be37-4f57-a9ad-89cc362a7b0d",
      "cell_type": "markdown",
      "source": "|Data Science Tools|\n|:--------------------|\n|RStudio|\n|Jupyter Notebook|\n|VS Code|\n",
      "metadata": {}
    },
    {
      "id": "7d490757-6b52-45f2-9086-b84413fa0b5c",
      "cell_type": "markdown",
      "source": "### Below are a few examples of evaluating arithmetic expressions in Python",
      "metadata": {}
    },
    {
      "id": "8721ac86-73e5-4c24-8999-da9b5d701eb7",
      "cell_type": "code",
      "source": "# this a simple arithmetic expression to mutiply then add integers\n(3*4)+5",
      "metadata": {
        "trusted": true
      },
      "outputs": [
        {
          "execution_count": 1,
          "output_type": "execute_result",
          "data": {
            "text/plain": "17"
          },
          "metadata": {}
        }
      ],
      "execution_count": 1
    },
    {
      "id": "7537a417-4bfc-4b60-9d61-ccac3bdc6e4a",
      "cell_type": "code",
      "source": "# this will convert 200 minutes to hours by diving by 60\n200/60",
      "metadata": {
        "trusted": true
      },
      "outputs": [
        {
          "execution_count": 2,
          "output_type": "execute_result",
          "data": {
            "text/plain": "3.3333333333333335"
          },
          "metadata": {}
        }
      ],
      "execution_count": 2
    },
    {
      "id": "9496da3b-79e3-4d7d-b684-3ea90090a6f3",
      "cell_type": "markdown",
      "source": "__Objectives:__\n\n- List popular languages for Data Science\n- List popular libraries for Data Science\n- List popular Data Science Tools\n",
      "metadata": {}
    },
    {
      "id": "bfefa59c-d200-48f8-8d7b-fa0aafcc3de4",
      "cell_type": "markdown",
      "source": "## Author\nAlvaro Montes",
      "metadata": {}
    }
  ]
}